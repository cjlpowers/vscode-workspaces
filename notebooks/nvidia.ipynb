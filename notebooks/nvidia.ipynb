{
 "cells": [
  {
   "cell_type": "code",
   "execution_count": 1,
   "metadata": {},
   "outputs": [
    {
     "name": "stdout",
     "output_type": "stream",
     "text": [
      "Found 1 CUDA device(s).\n",
      "\n",
      "Device 1:\n",
      "Name: NVIDIA GeForce RTX 3090\n",
      "Compute Capability: (8, 6)\n",
      "Total Memory: 24256 MB\n",
      "Multiprocessors: 82\n"
     ]
    }
   ],
   "source": [
    "import torch\n",
    "\n",
    "# Check if CUDA is available\n",
    "if torch.cuda.is_available():\n",
    "    device_count = torch.cuda.device_count()\n",
    "    print(f\"Found {device_count} CUDA device(s).\")\n",
    "\n",
    "    # Iterate over each device\n",
    "    for i in range(device_count):\n",
    "        device = torch.cuda.get_device_properties(i)\n",
    "        print(f\"\\nDevice {i + 1}:\")\n",
    "        print(\"Name:\", torch.cuda.get_device_name(device))\n",
    "        print(\"Compute Capability:\", torch.cuda.get_device_capability(device))\n",
    "        print(\"Total Memory:\", f\"{torch.cuda.get_device_properties(device).total_memory//(1024**2)} MB\")\n",
    "        print(\"Multiprocessors:\", torch.cuda.get_device_properties(device).multi_processor_count)\n",
    "else:\n",
    "    print(\"CUDA is not available.\")\n"
   ]
  }
 ],
 "metadata": {
  "kernelspec": {
   "display_name": "Python 3",
   "language": "python",
   "name": "python3"
  },
  "language_info": {
   "codemirror_mode": {
    "name": "ipython",
    "version": 3
   },
   "file_extension": ".py",
   "mimetype": "text/x-python",
   "name": "python",
   "nbconvert_exporter": "python",
   "pygments_lexer": "ipython3",
   "version": "3.10.6"
  },
  "orig_nbformat": 4
 },
 "nbformat": 4,
 "nbformat_minor": 2
}
